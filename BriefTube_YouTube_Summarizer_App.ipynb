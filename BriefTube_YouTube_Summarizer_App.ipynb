{
  "nbformat": 4,
  "nbformat_minor": 0,
  "metadata": {
    "colab": {
      "provenance": []
    },
    "kernelspec": {
      "name": "python3",
      "display_name": "Python 3"
    },
    "language_info": {
      "name": "python"
    }
  },
  "cells": [
    {
      "cell_type": "code",
      "execution_count": null,
      "metadata": {
        "id": "WyGmIuMVAfzJ"
      },
      "outputs": [],
      "source": [
        "!pip install streamlit -q\n",
        "!npm install localtunnel -q"
      ]
    },
    {
      "cell_type": "code",
      "source": [
        "%%writefile app.py\n",
        "\n",
        "import streamlit as st\n",
        "from dotenv import load_dotenv\n",
        "\n",
        "load_dotenv() ##load all the nevironment variables\n",
        "import os\n",
        "import google.generativeai as genai\n",
        "from youtube_transcript_api import YouTubeTranscriptApi\n",
        "\n",
        "#genai.configure(api_key=os.getenv(\"GOOGLE_API_KEY\"))\n",
        "\n",
        "prompt=\"\"\"You are Yotube video summarizer. You will be taking the transcript text\n",
        "and summarizing the entire video and providing the important summary in points\n",
        "within 250 words. Please provide the summary of the text given here:  \"\"\"\n",
        "\n",
        "\n",
        "## getting the transcript data from yt videos\n",
        "def extract_transcript_details(youtube_video_url):\n",
        "    try:\n",
        "        video_id=youtube_video_url.split(\"=\")[1]\n",
        "\n",
        "        transcript_text=YouTubeTranscriptApi.get_transcript(video_id)\n",
        "\n",
        "        transcript = \"\"\n",
        "        for i in transcript_text:\n",
        "            transcript += \" \" + i[\"text\"]\n",
        "\n",
        "        return transcript\n",
        "\n",
        "    except Exception as e:\n",
        "        raise e\n",
        "\n",
        "## getting the summary based on Prompt from Google Gemini Pro\n",
        "def generate_gemini_content(transcript_text,prompt):\n",
        "\n",
        "    model=genai.GenerativeModel(\"gemini-pro\")\n",
        "    response=model.generate_content(prompt+transcript_text)\n",
        "    return response.text\n",
        "\n",
        "st.title(\"YouTube Transcript to Detailed Notes Converter\")\n",
        "youtube_link = st.text_input(\"Enter YouTube Video Link:\")\n",
        "\n",
        "if youtube_link:\n",
        "    video_id = youtube_link.split(\"=\")[1]\n",
        "    print(video_id)\n",
        "    st.image(f\"http://img.youtube.com/vi/{video_id}/0.jpg\", use_column_width=True)\n",
        "\n",
        "if st.button(\"Get Detailed Notes\"):\n",
        "    transcript_text=extract_transcript_details(youtube_link)\n",
        "\n",
        "    if transcript_text:\n",
        "        summary=generate_gemini_content(transcript_text,prompt)\n",
        "        st.markdown(\"## Detailed Notes:\")\n",
        "        st.write(summary)"
      ],
      "metadata": {
        "id": "jM9HxTx_2Dce"
      },
      "execution_count": null,
      "outputs": []
    },
    {
      "cell_type": "code",
      "source": [
        "!curl https://loca.lt/mytunnelpassword"
      ],
      "metadata": {
        "id": "_IiteR6X48my"
      },
      "execution_count": null,
      "outputs": []
    },
    {
      "cell_type": "code",
      "source": [
        "!streamlit run app.py &>/content/logs.txt & npx localtunnel --port 8501"
      ],
      "metadata": {
        "id": "tr69P_f54-tI"
      },
      "execution_count": null,
      "outputs": []
    }
  ]
}